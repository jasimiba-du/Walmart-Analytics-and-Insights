{
  "cells": [
    {
      "cell_type": "code",
      "execution_count": 12,
      "metadata": {
        "id": "06SlFPxkbeTO"
      },
      "outputs": [],
      "source": [
        "# Basic Libraries\n",
        "import pandas as pd\n",
        "import numpy as np\n",
        "\n",
        "# Visualization Libraries\n",
        "import matplotlib.pyplot as plt\n",
        "import seaborn as sns\n",
        "\n",
        "# Preprocessing Libraries\n",
        "from sklearn.model_selection import train_test_split, GridSearchCV\n",
        "from sklearn.preprocessing import StandardScaler, LabelEncoder\n",
        "from sklearn.decomposition import PCA\n",
        "\n",
        "# Clustering and Recommendation Libraries\n",
        "from sklearn.cluster import KMeans\n",
        "from sklearn.metrics.pairwise import cosine_similarity\n",
        "# Metrics\n",
        "from sklearn.metrics import mean_absolute_error, mean_squared_error, r2_score\n",
        "\n",
        "# Saving Models\n",
        "import joblib\n"
      ]
    },
    {
      "cell_type": "code",
      "execution_count": 5,
      "metadata": {
        "colab": {
          "base_uri": "https://localhost:8080/",
          "height": 460
        },
        "id": "_H_22qwscrpN",
        "outputId": "1deeecdf-8266-4173-fedb-fef548ca5508"
      },
      "outputs": [
        {
          "data": {
            "text/html": [
              "<div>\n",
              "<style scoped>\n",
              "    .dataframe tbody tr th:only-of-type {\n",
              "        vertical-align: middle;\n",
              "    }\n",
              "\n",
              "    .dataframe tbody tr th {\n",
              "        vertical-align: top;\n",
              "    }\n",
              "\n",
              "    .dataframe thead th {\n",
              "        text-align: right;\n",
              "    }\n",
              "</style>\n",
              "<table border=\"1\" class=\"dataframe\">\n",
              "  <thead>\n",
              "    <tr style=\"text-align: right;\">\n",
              "      <th></th>\n",
              "      <th>0</th>\n",
              "    </tr>\n",
              "  </thead>\n",
              "  <tbody>\n",
              "    <tr>\n",
              "      <th>invoice_id</th>\n",
              "      <td>int64</td>\n",
              "    </tr>\n",
              "    <tr>\n",
              "      <th>branch</th>\n",
              "      <td>object</td>\n",
              "    </tr>\n",
              "    <tr>\n",
              "      <th>city</th>\n",
              "      <td>object</td>\n",
              "    </tr>\n",
              "    <tr>\n",
              "      <th>category</th>\n",
              "      <td>object</td>\n",
              "    </tr>\n",
              "    <tr>\n",
              "      <th>unit_price</th>\n",
              "      <td>float64</td>\n",
              "    </tr>\n",
              "    <tr>\n",
              "      <th>quantity</th>\n",
              "      <td>float64</td>\n",
              "    </tr>\n",
              "    <tr>\n",
              "      <th>date</th>\n",
              "      <td>object</td>\n",
              "    </tr>\n",
              "    <tr>\n",
              "      <th>payment_method</th>\n",
              "      <td>object</td>\n",
              "    </tr>\n",
              "    <tr>\n",
              "      <th>rating</th>\n",
              "      <td>float64</td>\n",
              "    </tr>\n",
              "    <tr>\n",
              "      <th>profit_margin</th>\n",
              "      <td>float64</td>\n",
              "    </tr>\n",
              "    <tr>\n",
              "      <th>total_price</th>\n",
              "      <td>float64</td>\n",
              "    </tr>\n",
              "    <tr>\n",
              "      <th>hour</th>\n",
              "      <td>int64</td>\n",
              "    </tr>\n",
              "  </tbody>\n",
              "</table>\n",
              "</div><br><label><b>dtype:</b> object</label>"
            ],
            "text/plain": [
              "invoice_id          int64\n",
              "branch             object\n",
              "city               object\n",
              "category           object\n",
              "unit_price        float64\n",
              "quantity          float64\n",
              "date               object\n",
              "payment_method     object\n",
              "rating            float64\n",
              "profit_margin     float64\n",
              "total_price       float64\n",
              "hour                int64\n",
              "dtype: object"
            ]
          },
          "execution_count": 5,
          "metadata": {},
          "output_type": "execute_result"
        }
      ],
      "source": [
        "data =pd.read_csv('/content/cleaned_data.csv')\n",
        "df.dtypes\n"
      ]
    },
    {
      "cell_type": "code",
      "execution_count": 7,
      "metadata": {
        "colab": {
          "base_uri": "https://localhost:8080/"
        },
        "id": "UhNQD9wrjAap",
        "outputId": "c96f25dc-d85d-44fa-a3ac-f086c8ebb4eb"
      },
      "outputs": [
        {
          "name": "stdout",
          "output_type": "stream",
          "text": [
            "<class 'pandas.core.frame.DataFrame'>\n",
            "RangeIndex: 9969 entries, 0 to 9968\n",
            "Data columns (total 12 columns):\n",
            " #   Column          Non-Null Count  Dtype  \n",
            "---  ------          --------------  -----  \n",
            " 0   invoice_id      9969 non-null   int64  \n",
            " 1   branch          9969 non-null   object \n",
            " 2   city            9969 non-null   object \n",
            " 3   category        9969 non-null   object \n",
            " 4   unit_price      9969 non-null   float64\n",
            " 5   quantity        9969 non-null   float64\n",
            " 6   date            9969 non-null   object \n",
            " 7   payment_method  9969 non-null   object \n",
            " 8   rating          9969 non-null   float64\n",
            " 9   profit_margin   9969 non-null   float64\n",
            " 10  total_price     9969 non-null   float64\n",
            " 11  hour            9969 non-null   int64  \n",
            "dtypes: float64(5), int64(2), object(5)\n",
            "memory usage: 934.7+ KB\n",
            "None\n",
            "invoice_id        0\n",
            "branch            0\n",
            "city              0\n",
            "category          0\n",
            "unit_price        0\n",
            "quantity          0\n",
            "date              0\n",
            "payment_method    0\n",
            "rating            0\n",
            "profit_margin     0\n",
            "total_price       0\n",
            "hour              0\n",
            "dtype: int64\n"
          ]
        }
      ],
      "source": [
        "print(df.info())"
      ]
    },
    {
      "cell_type": "code",
      "execution_count": 10,
      "metadata": {
        "id": "eMKlixFgjAT2"
      },
      "outputs": [],
      "source": [
        "df['date'] = pd.to_datetime(df['date'])"
      ]
    },
    {
      "cell_type": "code",
      "execution_count": 13,
      "metadata": {
        "id": "WO2XzIzmjARS"
      },
      "outputs": [],
      "source": [
        "# Label Encoding for categorical variables\n",
        "label_encoder = LabelEncoder()\n",
        "categorical_cols = ['branch', 'city', 'category', 'payment_method']\n",
        "for col in categorical_cols:\n",
        "    df[col] = label_encoder.fit_transform(df[col])"
      ]
    },
    {
      "cell_type": "code",
      "execution_count": 14,
      "metadata": {
        "id": "Y0AjYaymjAQX"
      },
      "outputs": [],
      "source": [
        "# Standardize numerical features\n",
        "scaler = StandardScaler()\n",
        "numerical_cols = ['unit_price', 'quantity', 'rating', 'profit_margin']\n",
        "df[numerical_cols] = scaler.fit_transform(df[numerical_cols])"
      ]
    },
    {
      "cell_type": "code",
      "execution_count": 15,
      "metadata": {
        "id": "9iuKnqYejANg"
      },
      "outputs": [],
      "source": [
        "# Extract additional time-related features\n",
        "df['day_of_week'] = df['date'].dt.dayofweek\n",
        "df['is_weekend'] = df['day_of_week'].apply(lambda x: 1 if x in [5, 6] else 0)\n"
      ]
    },
    {
      "cell_type": "code",
      "execution_count": 16,
      "metadata": {
        "id": "q1b482XLjAJ-"
      },
      "outputs": [],
      "source": [
        "# Drop the original 'date' column\n",
        "df = df.drop(columns=['date'])"
      ]
    },
    {
      "cell_type": "code",
      "execution_count": 17,
      "metadata": {
        "colab": {
          "base_uri": "https://localhost:8080/"
        },
        "id": "kgsJnolsjAHB",
        "outputId": "29b1f28c-765b-4149-9941-c6a2eba8dbfc"
      },
      "outputs": [
        {
          "name": "stdout",
          "output_type": "stream",
          "text": [
            "   invoice_id  branch  city  category  unit_price  quantity  payment_method  \\\n",
            "0           1       2    83         3    1.135132  2.893030               2   \n",
            "1           2      47    42         0   -1.666870  1.647215               0   \n",
            "2           3      66    41         4   -0.202434  2.893030               1   \n",
            "3           4      63     9         3    0.358344  3.515938               2   \n",
            "4           5      12    46         5    1.683175  2.893030               2   \n",
            "\n",
            "     rating  profit_margin  hour  day_of_week  is_weekend  \n",
            "0  1.854783       0.951485    13            5           1  \n",
            "1  2.138289       0.951485    10            4           0  \n",
            "2  0.890865      -0.703149    13            6           1  \n",
            "3  1.457876      -0.703149    20            6           1  \n",
            "4 -0.299858       0.951485    10            4           0  \n"
          ]
        }
      ],
      "source": [
        "# Check processed data\n",
        "print(df.head())"
      ]
    },
    {
      "cell_type": "code",
      "execution_count": 18,
      "metadata": {
        "id": "ZNWGR5GBjADu"
      },
      "outputs": [],
      "source": [
        "#Means for customer segmentation\n",
        "customer_features = df[['rating', 'quantity', 'unit_price', 'profit_margin']]\n",
        "kmeans = KMeans(n_clusters=3, random_state=42)\n",
        "df['customer_segment'] = kmeans.fit_predict(customer_features)\n"
      ]
    },
    {
      "cell_type": "code",
      "execution_count": 20,
      "metadata": {
        "colab": {
          "base_uri": "https://localhost:8080/"
        },
        "id": "8JW96Gmckvd_",
        "outputId": "fd8ef1a1-5acb-49de-8170-1417973d8f1e"
      },
      "outputs": [
        {
          "name": "stdout",
          "output_type": "stream",
          "text": [
            "Customer Segment Counts:\n",
            " customer_segment\n",
            "1    5005\n",
            "0    4417\n",
            "2     547\n",
            "Name: count, dtype: int64\n",
            "\n",
            "Mean Unit Price per Segment:\n",
            " customer_segment\n",
            "0   -0.029149\n",
            "1   -0.005615\n",
            "2    0.286750\n",
            "Name: unit_price, dtype: float64\n"
          ]
        }
      ],
      "source": [
        "from sklearn.cluster import KMeans\n",
        "\n",
        "customer_segments = df['customer_segment']\n",
        "\n",
        "segment_counts = customer_segments.value_counts()\n",
        "print(\"Customer Segment Counts:\\n\", segment_counts)\n",
        "\n",
        "segment_means = df.groupby('customer_segment')['unit_price'].mean()\n",
        "print(\"\\nMean Unit Price per Segment:\\n\", segment_means)"
      ]
    },
    {
      "cell_type": "code",
      "execution_count": 19,
      "metadata": {
        "colab": {
          "base_uri": "https://localhost:8080/",
          "height": 564
        },
        "id": "hiwuaI8OjAAm",
        "outputId": "5d0d80f0-5c78-4aa9-9720-a64b1fbe6341"
      },
      "outputs": [
        {
          "data": {
            "image/png": "[encoded data removed]",
            "text/plain": [
              "<Figure size 1000x600 with 1 Axes>"
            ]
          },
          "metadata": {},
          "output_type": "display_data"
        }
      ],
      "source": [
        "plt.figure(figsize=(10, 6))\n",
        "sns.scatterplot(data=customer_features, x='unit_price', y='profit_margin', hue=df['customer_segment'], palette='viridis')\n",
        "plt.title(\"Customer Segmentation\")\n",
        "plt.xlabel(\"Unit Price\")\n",
        "plt.ylabel(\"Profit Margin\")\n",
        "plt.show()"
      ]
    },
    {
      "cell_type": "code",
      "execution_count": 21,
      "metadata": {
        "colab": {
          "base_uri": "https://localhost:8080/"
        },
        "id": "vLpZDjYYi_9P",
        "outputId": "ce76413b-58fc-4a10-ab34-19bff6656d2f"
      },
      "outputs": [
        {
          "data": {
            "text/plain": [
              "['customer_segmentation_model.pkl']"
            ]
          },
          "execution_count": 21,
          "metadata": {},
          "output_type": "execute_result"
        }
      ],
      "source": [
        "joblib.dump(kmeans, 'customer_segmentation_model.pkl')\n"
      ]
    },
    {
      "cell_type": "markdown",
      "metadata": {},
      "source": [
        "**Recommendation System**"
      ]
    },
    {
      "cell_type": "code",
      "execution_count": 26,
      "metadata": {
        "colab": {
          "base_uri": "https://localhost:8080/"
        },
        "id": "LcB7ZwSmi_6Z",
        "outputId": "95feffdb-f70b-446c-a85a-95e157e5dee2"
      },
      "outputs": [
        {
          "name": "stdout",
          "output_type": "stream",
          "text": [
            "Top 5 Recommended Categories: [1 4 5 3 2]\n"
          ]
        }
      ],
      "source": [
        "# Pivot table for recommendation \n",
        "user_item_matrix = df.pivot_table(index='branch', columns='category', values='rating', aggfunc='mean').fillna(0)\n",
        "\n",
        "similarity_matrix = cosine_similarity(user_item_matrix.T)  # Transpose the matrix to focus on categories\n",
        "\n",
        "np.save('category_similarity_matrix.npy', similarity_matrix)\n",
        "\n",
        "category_index = 0  # Replace with actual category index\n",
        "similar_categories = similarity_matrix[category_index]\n",
        "recommended_categories = np.argsort(similar_categories)[::-1][1:6]  # Top 5 similar categories\n",
        "print(\"Top 5 Recommended Categories:\", recommended_categories)\n"
      ]
    },
    {
      "cell_type": "code",
      "execution_count": 91,
      "metadata": {
        "colab": {
          "base_uri": "https://localhost:8080/"
        },
        "id": "CsuNJGpKi_5i",
        "outputId": "c12b2067-70ba-47ed-fc09-fa2c1b4166be"
      },
      "outputs": [
        {
          "name": "stdout",
          "output_type": "stream",
          "text": [
            "(5981, 12) (1994, 12)\n",
            "(5981,) (1994,)\n",
            "invoice_id          0\n",
            "branch              0\n",
            "city                0\n",
            "category            0\n",
            "unit_price          0\n",
            "quantity            0\n",
            "payment_method      0\n",
            "rating              0\n",
            "hour                0\n",
            "day_of_week         0\n",
            "is_weekend          0\n",
            "customer_segment    0\n",
            "dtype: int64\n",
            "invoice_id          0\n",
            "branch              0\n",
            "city                0\n",
            "category            0\n",
            "unit_price          0\n",
            "quantity            0\n",
            "payment_method      0\n",
            "rating              0\n",
            "hour                0\n",
            "day_of_week         0\n",
            "is_weekend          0\n",
            "customer_segment    0\n",
            "dtype: int64\n",
            "0\n",
            "0\n",
            "Index(['invoice_id', 'branch', 'city', 'category', 'unit_price', 'quantity',\n",
            "       'payment_method', 'rating', 'hour', 'day_of_week', 'is_weekend',\n",
            "       'customer_segment'],\n",
            "      dtype='object')\n",
            "Index(['invoice_id', 'branch', 'city', 'category', 'unit_price', 'quantity',\n",
            "       'payment_method', 'rating', 'hour', 'day_of_week', 'is_weekend',\n",
            "       'customer_segment'],\n",
            "      dtype='object')\n"
          ]
        }
      ],
      "source": [
        "import lightgbm as lgb\n",
        "import xgboost as xgb\n",
        "from sklearn.ensemble import RandomForestRegressor\n",
        "\n",
        "X = df.drop(columns=['profit_margin'])\n",
        "y = df['profit_margin']\n",
        "\n",
        "X_train, X_test, y_train, y_test = train_test_split(X, y, test_size=0.2, random_state=42)\n",
        "\n",
        "X_train, X_val, y_train, y_val = train_test_split(X_train, y_train, test_size=0.25, random_state=42)\n",
        "\n",
        "print(X_train.shape, X_val.shape)\n",
        "print(y_train.shape, y_val.shape)\n",
        "\n",
        "X_train = X_train.reset_index(drop=True)\n",
        "X_val = X_val.reset_index(drop=True)\n",
        "y_train = y_train.reset_index(drop=True)\n",
        "y_val = y_val.reset_index(drop=True)\n",
        "\n",
        "print(X_train.isnull().sum())\n",
        "print(X_val.isnull().sum())\n",
        "print(y_train.isnull().sum())\n",
        "print(y_val.isnull().sum())\n",
        "\n",
        "print(X_train.columns)\n",
        "print(X_val.columns)\n",
        ".\n",
        "\n"
      ]
    },
    {
      "cell_type": "markdown",
      "metadata": {},
      "source": [
        "**Model Training and Evaluation**"
      ]
    },
    {
      "cell_type": "code",
      "execution_count": 94,
      "metadata": {
        "colab": {
          "base_uri": "https://localhost:8080/"
        },
        "id": "oeX_gE8HviMR",
        "outputId": "b05a46a0-1873-408e-a051-1b52a108b96f"
      },
      "outputs": [
        {
          "name": "stdout",
          "output_type": "stream",
          "text": [
            "Fitting 3 folds for each of 10 candidates, totalling 30 fits\n",
            "Fitting 3 folds for each of 10 candidates, totalling 30 fits\n",
            "Fitting 3 folds for each of 10 candidates, totalling 30 fits\n"
          ]
        },
        {
          "name": "stderr",
          "output_type": "stream",
          "text": [
            "/usr/local/lib/python3.10/dist-packages/sklearn/metrics/_regression.py:492: FutureWarning: 'squared' is deprecated in version 1.4 and will be removed in 1.6. To calculate the root mean squared error, use the function'root_mean_squared_error'.\n",
            "  warnings.warn(\n",
            "/usr/local/lib/python3.10/dist-packages/sklearn/metrics/_regression.py:492: FutureWarning: 'squared' is deprecated in version 1.4 and will be removed in 1.6. To calculate the root mean squared error, use the function'root_mean_squared_error'.\n",
            "  warnings.warn(\n",
            "/usr/local/lib/python3.10/dist-packages/sklearn/metrics/_regression.py:492: FutureWarning: 'squared' is deprecated in version 1.4 and will be removed in 1.6. To calculate the root mean squared error, use the function'root_mean_squared_error'.\n",
            "  warnings.warn(\n"
          ]
        },
        {
          "name": "stdout",
          "output_type": "stream",
          "text": [
            "Random Forest RMSE: 0.0645\n",
            "XGBoost RMSE: 0.0631\n",
            "LightGBM RMSE: 0.0723\n",
            "Random Forest CV RMSE: -0.0854\n",
            "XGBoost CV RMSE: -0.0844\n",
            "LightGBM CV RMSE: -0.0899\n",
            "Random Forest MASE: 0.0049\n",
            "XGBoost MASE: 0.0047\n",
            "LightGBM MASE: 0.0103\n",
            "Best model based on RMSE: XGBoost\n"
          ]
        }
      ],
      "source": [
        "# Initialize models\n",
        "rf_model = RandomForestRegressor(random_state=42)\n",
        "xgb_model = xgb.XGBRegressor(random_state=42)\n",
        "lgb_model = lgb.LGBMRegressor(random_state=42)\n",
        "\n",
        "\n",
        "rf_param_dist = {\n",
        "    'n_estimators': [100, 200, 300],\n",
        "    'max_depth': [3, 5, 7],\n",
        "    'min_samples_split': [2, 5, 10],\n",
        "    'min_samples_leaf': [1, 2, 4]\n",
        "}\n",
        "\n",
        "xgb_param_dist = {\n",
        "    'max_depth': [3, 5, 7],\n",
        "    'learning_rate': [0.01, 0.1, 0.3],\n",
        "    'subsample': [0.8, 0.9, 1.0],\n",
        "    'colsample_bytree': [0.8, 0.9, 1.0]\n",
        "}\n",
        "\n",
        "lgb_param_dist = {\n",
        "    'learning_rate': [0.01, 0.05, 0.1, 0.2],\n",
        "    'num_leaves': [20, 31, 50, 100],\n",
        "    'min_data_in_leaf': [10, 20, 30, 50],\n",
        "    'min_split_gain': [0.0, 0.1, 0.2],\n",
        "    'max_depth': [-1, 5, 10, 15]\n",
        "}\n",
        "\n",
        "rf_random_search = RandomizedSearchCV(rf_model, param_distributions=rf_param_dist, n_iter=10,\n",
        "                                      scoring='neg_mean_squared_error', cv=3, n_jobs=-1, verbose=1)\n",
        "xgb_random_search = RandomizedSearchCV(xgb_model, param_distributions=xgb_param_dist, n_iter=10,\n",
        "                                       scoring='neg_mean_squared_error', cv=3, n_jobs=-1, verbose=1)\n",
        "lgb_random_search = RandomizedSearchCV(lgb_model, param_distributions=lgb_param_dist, n_iter=10,\n",
        "                                       scoring='neg_mean_squared_error', cv=3, n_jobs=-1, verbose=1)\n",
        "\n",
        "rf_random_search.fit(X_train, y_train)\n",
        "xgb_random_search.fit(X_train, y_train)\n",
        "lgb_random_search.fit(X_train, y_train)\n",
        "\n",
        "best_rf = rf_random_search.best_estimator_\n",
        "best_xgb = xgb_random_search.best_estimator_\n",
        "best_lgb = lgb_random_search.best_estimator_\n",
        "\n",
        "rf_predictions = best_rf.predict(X_val)\n",
        "xgb_predictions = best_xgb.predict(X_val)\n",
        "lgb_predictions = best_lgb.predict(X_val)\n",
        "\n",
        "rf_rmse = mean_squared_error(y_val, rf_predictions, squared=False)\n",
        "xgb_rmse = mean_squared_error(y_val, xgb_predictions, squared=False)\n",
        "lgb_rmse = mean_squared_error(y_val, lgb_predictions, squared=False)\n",
        "\n",
        "print(f\"Random Forest RMSE: {rf_rmse:.4f}\")\n",
        "print(f\"XGBoost RMSE: {xgb_rmse:.4f}\")\n",
        "print(f\"LightGBM RMSE: {lgb_rmse:.4f}\")\n",
        "\n",
        "# Cross-validation RMSE\n",
        "rf_cv_rmse = np.mean(cross_val_score(best_rf, X_train, y_train, cv=3, scoring='neg_root_mean_squared_error'))\n",
        "xgb_cv_rmse = np.mean(cross_val_score(best_xgb, X_train, y_train, cv=3, scoring='neg_root_mean_squared_error'))\n",
        "lgb_cv_rmse = np.mean(cross_val_score(best_lgb, X_train, y_train, cv=3, scoring='neg_root_mean_squared_error'))\n",
        "\n",
        "print(f\"Random Forest CV RMSE: {rf_cv_rmse:.4f}\")\n",
        "print(f\"XGBoost CV RMSE: {xgb_cv_rmse:.4f}\")\n",
        "print(f\"LightGBM CV RMSE: {lgb_cv_rmse:.4f}\")\n",
        "\n",
        "def calculate_mase(y_true, y_pred, y_train):\n",
        "    # Calculate naive forecast (previous value)\n",
        "    naive_forecast = np.roll(y_true, 1)  # Use y_true instead of y_train\n",
        "    naive_forecast[0] = y_true[0]  # Set first value to be the same for simplicity\n",
        "    mae = np.mean(np.abs(y_true - y_pred))\n",
        "    mae_naive = np.mean(np.abs(y_true - naive_forecast))\n",
        "    return mae / mae_naive\n",
        "rf_mase = calculate_mase(y_val, rf_predictions, y_train)\n",
        "xgb_mase = calculate_mase(y_val, xgb_predictions, y_train)\n",
        "lgb_mase = calculate_mase(y_val, lgb_predictions, y_train)\n",
        "\n",
        "print(f\"Random Forest MASE: {rf_mase:.4f}\")\n",
        "print(f\"XGBoost MASE: {xgb_mase:.4f}\")\n",
        "print(f\"LightGBM MASE: {lgb_mase:.4f}\")\n",
        "\n",
        "best_model = None\n",
        "best_rmse = min(rf_rmse, xgb_rmse, lgb_rmse)\n",
        "\n",
        "if best_rmse == rf_rmse:\n",
        "    best_model = 'Random Forest'\n",
        "elif best_rmse == xgb_rmse:\n",
        "    best_model = 'XGBoost'\n",
        "else:\n",
        "    best_model = 'LightGBM'\n",
        "\n",
        "print(f\"Best model based on RMSE: {best_model}\")\n"
      ]
    },
    {
      "cell_type": "code",
      "execution_count": 95,
      "metadata": {
        "colab": {
          "base_uri": "https://localhost:8080/"
        },
        "id": "rbcpSg3pNs75",
        "outputId": "6de8b595-cc3a-404f-9338-008c0ba74e85"
      },
      "outputs": [
        {
          "data": {
            "text/plain": [
              "['best_xgb_model.pkl']"
            ]
          },
          "execution_count": 95,
          "metadata": {},
          "output_type": "execute_result"
        }
      ],
      "source": [
        "import joblib\n",
        "\n",
        "joblib.dump(best_xgb, 'best_xgb_model.pkl')\n"
      ]
    }
  ],
  "metadata": {
    "colab": {
      "provenance": []
    },
    "kernelspec": {
      "display_name": "Python 3",
      "name": "python3"
    },
    "language_info": {
      "name": "python"
    }
  },
  "nbformat": 4,
  "nbformat_minor": 0
}
